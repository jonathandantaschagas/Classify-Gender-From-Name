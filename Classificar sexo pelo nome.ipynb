{
 "cells": [
  {
   "cell_type": "code",
   "execution_count": 1,
   "metadata": {
    "collapsed": false
   },
   "outputs": [],
   "source": [
    "import random\n",
    "import nltk\n",
    "from nltk.corpus import names\n",
    "#nltk.download()"
   ]
  },
  {
   "cell_type": "code",
   "execution_count": 2,
   "metadata": {
    "collapsed": false
   },
   "outputs": [],
   "source": [
    "# A função recebe um nome e retorna um documento com a primeira e a ultima letra\n",
    "def char_sexo(nome):\n",
    "    return {\"primeira_letra\" : nome[0],\n",
    "            \"ultima_letra\": nome[-1]}\n",
    "\n",
    "nomes =  ([(nome_m, 'M') for nome_m in names.words('male.txt')] + \n",
    "          [(nome_f, 'F')  for nome_f in names.words('female.txt')])\n",
    "\n",
    "\n",
    "# Sorteia os dados  no dataset nome.\n",
    "random.shuffle(nomes)"
   ]
  },
  {
   "cell_type": "code",
   "execution_count": 3,
   "metadata": {
    "collapsed": false
   },
   "outputs": [],
   "source": [
    "# formata o dataset para aplicar o Naive Bayes\n",
    "dataset_formatado = [(char_sexo(n), s) for n,s in nomes]\n",
    "\n",
    "# Divide os dados em train_set e test_set\n",
    "train_set , test_set  = dataset_formatado[1000:], dataset_formatado[:1000]\n",
    "\n",
    "# Cria um classificador utilizando Naive Bayes e treina o modelo utilizando os\n",
    "# dados de treinamento (train_set)\n",
    "classificador = nltk.NaiveBayesClassifier.train(train_set)"
   ]
  },
  {
   "cell_type": "code",
   "execution_count": 5,
   "metadata": {
    "collapsed": false
   },
   "outputs": [
    {
     "name": "stdout",
     "output_type": "stream",
     "text": [
      "F\n",
      "Acurácia: 77.10000000000001\n"
     ]
    }
   ],
   "source": [
    "# Aplicar a classificação para o nome Ana\n",
    "print(classificador.classify(char_sexo('Lidia')))\n",
    "\n",
    "# Verificar acurácia da classificação\n",
    "print(\"Acurácia: {}\".format((nltk.classify.accuracy(classificador, test_set))*100))"
   ]
  },
  {
   "cell_type": "code",
   "execution_count": null,
   "metadata": {
    "collapsed": false
   },
   "outputs": [],
   "source": []
  }
 ],
 "metadata": {
  "anaconda-cloud": {},
  "kernelspec": {
   "display_name": "Python [default]",
   "language": "python",
   "name": "python3"
  },
  "language_info": {
   "codemirror_mode": {
    "name": "ipython",
    "version": 3
   },
   "file_extension": ".py",
   "mimetype": "text/x-python",
   "name": "python",
   "nbconvert_exporter": "python",
   "pygments_lexer": "ipython3",
   "version": "3.5.2"
  }
 },
 "nbformat": 4,
 "nbformat_minor": 1
}
